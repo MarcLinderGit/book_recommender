{
 "cells": [
  {
   "cell_type": "markdown",
   "metadata": {},
   "source": [
    "# Book Recommender\n",
    "In this project, I explore the process of building and fine-tuning a recommender system using the Surprise library in Python. My dataset consists of Goodreads book ratings, and my goal is to create a collaborative filtering-based recommender system that can predict user ratings for books. I will follow these key steps:\n",
    "\n",
    "1. **Data Loading and Exploration**: I begin by loading the dataset and conducting some initial data exploration. This step helps me understand the structure of the data, its size, and the distribution of ratings.\n",
    "\n",
    "2. **Data Preprocessing**: I identify and handle any data issues, such as zero ratings, which are outside the expected rating range.\n",
    "\n",
    "3. **Data Preparation for Surprise**: I prepare the data to be used with the Surprise library by creating a reader object and a Surprise dataset.\n",
    "\n",
    "4. **Building the Recommender System**: I use the K-nearest neighbors (KNN) collaborative filtering algorithm (KNNBasic) from the Surprise library to build my recommender system.\n",
    "\n",
    "5. **Model Evaluation**: I evaluate the performance of my recommender system using root-mean-square error (RMSE) as the evaluation metric.\n",
    "\n",
    "6. **Hyperparameter Tuning**: I perform hyperparameter tuning using grid search to find the best hyperparameters for my model. This step allows me to further improve the model's performance.\n",
    "\n",
    "7. **Refitting the Model**: After finding the best hyperparameters, I refit the KNNBasic model with these optimal settings.\n",
    "\n",
    "8. **Making Predictions**: I make predictions using the refitted model to estimate how a user would rate a particular book.\n",
    "\n",
    "Through these steps, I aim to build an accurate and efficient recommender system that can provide meaningful book recommendations to users based on their past ratings and preferences. Additionally, I demonstrate the impact of hyperparameter tuning on the model's performance, showcasing the importance of fine-tuning in building effective recommendation systems.\n"
   ]
  },
  {
   "cell_type": "markdown",
   "metadata": {},
   "source": [
    "------"
   ]
  },
  {
   "cell_type": "markdown",
   "metadata": {},
   "source": [
    "## Install Missing Libraries"
   ]
  },
  {
   "cell_type": "code",
   "execution_count": null,
   "metadata": {},
   "outputs": [],
   "source": [
    "# Install in terminal\n",
    "# python -m pip install --upgrade pip setuptools wheel\n",
    "# python -m pip install --no-use-pep517 scikit-surprise"
   ]
  },
  {
   "cell_type": "markdown",
   "metadata": {},
   "source": [
    "## Import Libraries"
   ]
  },
  {
   "cell_type": "code",
   "execution_count": 21,
   "metadata": {},
   "outputs": [],
   "source": [
    "import pandas as pd\n",
    "from surprise import Reader, Dataset, KNNBasic, accuracy\n",
    "from surprise.model_selection import train_test_split, GridSearchCV\n",
    "import matplotlib.pyplot as plt"
   ]
  },
  {
   "cell_type": "markdown",
   "metadata": {},
   "source": [
    "## Load Data"
   ]
  },
  {
   "cell_type": "code",
   "execution_count": 22,
   "metadata": {},
   "outputs": [],
   "source": [
    "# Load data\n",
    "book_ratings = pd.read_excel('dataset/goodreads_ratings.xlsx')"
   ]
  },
  {
   "cell_type": "markdown",
   "metadata": {},
   "source": [
    "## Data Exploration"
   ]
  },
  {
   "cell_type": "code",
   "execution_count": 23,
   "metadata": {},
   "outputs": [
    {
     "data": {
      "text/html": [
       "<div>\n",
       "<style scoped>\n",
       "    .dataframe tbody tr th:only-of-type {\n",
       "        vertical-align: middle;\n",
       "    }\n",
       "\n",
       "    .dataframe tbody tr th {\n",
       "        vertical-align: top;\n",
       "    }\n",
       "\n",
       "    .dataframe thead th {\n",
       "        text-align: right;\n",
       "    }\n",
       "</style>\n",
       "<table border=\"1\" class=\"dataframe\">\n",
       "  <thead>\n",
       "    <tr style=\"text-align: right;\">\n",
       "      <th></th>\n",
       "      <th>Unnamed: 0</th>\n",
       "      <th>user_id</th>\n",
       "      <th>book_id</th>\n",
       "      <th>review_id</th>\n",
       "      <th>rating</th>\n",
       "      <th>review_text</th>\n",
       "      <th>date_added</th>\n",
       "      <th>date_updated</th>\n",
       "      <th>read_at</th>\n",
       "      <th>started_at</th>\n",
       "      <th>n_votes</th>\n",
       "      <th>n_comments</th>\n",
       "    </tr>\n",
       "  </thead>\n",
       "  <tbody>\n",
       "    <tr>\n",
       "      <th>0</th>\n",
       "      <td>0</td>\n",
       "      <td>d089c9b670c0b0b339353aebbace46a1</td>\n",
       "      <td>7686667</td>\n",
       "      <td>3337e0e75701f7f682de11638ccdc60c</td>\n",
       "      <td>3</td>\n",
       "      <td>Like Matched, this book felt like it was echoi...</td>\n",
       "      <td>Fri Apr 29 14:45:32 -0700 2011</td>\n",
       "      <td>Mon Feb 02 12:57:57 -0800 2015</td>\n",
       "      <td>Sat Jun 18 00:00:00 -0700 2011</td>\n",
       "      <td>Thu May 19 00:00:00 -0700 2011</td>\n",
       "      <td>0.0</td>\n",
       "      <td>0.0</td>\n",
       "    </tr>\n",
       "    <tr>\n",
       "      <th>1</th>\n",
       "      <td>1</td>\n",
       "      <td>6dcb2c16e12a41ae0c6c38e9d46f3292</td>\n",
       "      <td>18073066</td>\n",
       "      <td>7201aa3c1161f2bad81258b6d4686c16</td>\n",
       "      <td>5</td>\n",
       "      <td>WOW again! 4,5 Stars So i wont forget to menti...</td>\n",
       "      <td>Thu Aug 01 02:15:18 -0700 2013</td>\n",
       "      <td>Mon Nov 18 14:49:26 -0800 2013</td>\n",
       "      <td>Mon Aug 19 00:00:00 -0700 2013</td>\n",
       "      <td>Mon Aug 12 00:00:00 -0700 2013</td>\n",
       "      <td>16.0</td>\n",
       "      <td>14.0</td>\n",
       "    </tr>\n",
       "    <tr>\n",
       "      <th>2</th>\n",
       "      <td>2</td>\n",
       "      <td>244e0ce681148a7586d7746676093ce9</td>\n",
       "      <td>13610986</td>\n",
       "      <td>07a203f87bfe1b65ff58774667f6f80d</td>\n",
       "      <td>5</td>\n",
       "      <td>The second novel was hot &amp; heavy. Not only in ...</td>\n",
       "      <td>Sun Nov 23 18:17:50 -0800 2014</td>\n",
       "      <td>Sat May 16 20:34:19 -0700 2015</td>\n",
       "      <td>Fri Dec 19 00:00:00 -0800 2014</td>\n",
       "      <td>Sun Nov 23 00:00:00 -0800 2014</td>\n",
       "      <td>0.0</td>\n",
       "      <td>0.0</td>\n",
       "    </tr>\n",
       "    <tr>\n",
       "      <th>3</th>\n",
       "      <td>3</td>\n",
       "      <td>73fcc25ff29f8b73b3a7578aec846394</td>\n",
       "      <td>27274343</td>\n",
       "      <td>8be2d87b07098c16f9742020ec459383</td>\n",
       "      <td>1</td>\n",
       "      <td>What a maddening waste of time. And I unfortun...</td>\n",
       "      <td>Mon Oct 31 08:29:06 -0700 2016</td>\n",
       "      <td>Wed Apr 26 16:06:28 -0700 2017</td>\n",
       "      <td>Wed Apr 26 16:06:28 -0700 2017</td>\n",
       "      <td>Sun Apr 23 00:00:00 -0700 2017</td>\n",
       "      <td>0.0</td>\n",
       "      <td>1.0</td>\n",
       "    </tr>\n",
       "    <tr>\n",
       "      <th>4</th>\n",
       "      <td>4</td>\n",
       "      <td>f8880e158a163388a990b64fec7df300</td>\n",
       "      <td>11614718</td>\n",
       "      <td>a29c4ba03e33ad073a414ac775266c5f</td>\n",
       "      <td>4</td>\n",
       "      <td>4.5 stars! This was an awesome read! So before...</td>\n",
       "      <td>Tue Mar 26 10:55:30 -0700 2013</td>\n",
       "      <td>Mon Sep 08 09:57:05 -0700 2014</td>\n",
       "      <td>Sun Apr 20 09:26:41 -0700 2014</td>\n",
       "      <td>Fri Apr 18 00:00:00 -0700 2014</td>\n",
       "      <td>0.0</td>\n",
       "      <td>0.0</td>\n",
       "    </tr>\n",
       "  </tbody>\n",
       "</table>\n",
       "</div>"
      ],
      "text/plain": [
       "   Unnamed: 0                           user_id   book_id  \\\n",
       "0           0  d089c9b670c0b0b339353aebbace46a1   7686667   \n",
       "1           1  6dcb2c16e12a41ae0c6c38e9d46f3292  18073066   \n",
       "2           2  244e0ce681148a7586d7746676093ce9  13610986   \n",
       "3           3  73fcc25ff29f8b73b3a7578aec846394  27274343   \n",
       "4           4  f8880e158a163388a990b64fec7df300  11614718   \n",
       "\n",
       "                          review_id  rating  \\\n",
       "0  3337e0e75701f7f682de11638ccdc60c       3   \n",
       "1  7201aa3c1161f2bad81258b6d4686c16       5   \n",
       "2  07a203f87bfe1b65ff58774667f6f80d       5   \n",
       "3  8be2d87b07098c16f9742020ec459383       1   \n",
       "4  a29c4ba03e33ad073a414ac775266c5f       4   \n",
       "\n",
       "                                         review_text  \\\n",
       "0  Like Matched, this book felt like it was echoi...   \n",
       "1  WOW again! 4,5 Stars So i wont forget to menti...   \n",
       "2  The second novel was hot & heavy. Not only in ...   \n",
       "3  What a maddening waste of time. And I unfortun...   \n",
       "4  4.5 stars! This was an awesome read! So before...   \n",
       "\n",
       "                       date_added                    date_updated  \\\n",
       "0  Fri Apr 29 14:45:32 -0700 2011  Mon Feb 02 12:57:57 -0800 2015   \n",
       "1  Thu Aug 01 02:15:18 -0700 2013  Mon Nov 18 14:49:26 -0800 2013   \n",
       "2  Sun Nov 23 18:17:50 -0800 2014  Sat May 16 20:34:19 -0700 2015   \n",
       "3  Mon Oct 31 08:29:06 -0700 2016  Wed Apr 26 16:06:28 -0700 2017   \n",
       "4  Tue Mar 26 10:55:30 -0700 2013  Mon Sep 08 09:57:05 -0700 2014   \n",
       "\n",
       "                          read_at                      started_at  n_votes  \\\n",
       "0  Sat Jun 18 00:00:00 -0700 2011  Thu May 19 00:00:00 -0700 2011      0.0   \n",
       "1  Mon Aug 19 00:00:00 -0700 2013  Mon Aug 12 00:00:00 -0700 2013     16.0   \n",
       "2  Fri Dec 19 00:00:00 -0800 2014  Sun Nov 23 00:00:00 -0800 2014      0.0   \n",
       "3  Wed Apr 26 16:06:28 -0700 2017  Sun Apr 23 00:00:00 -0700 2017      0.0   \n",
       "4  Sun Apr 20 09:26:41 -0700 2014  Fri Apr 18 00:00:00 -0700 2014      0.0   \n",
       "\n",
       "   n_comments  \n",
       "0         0.0  \n",
       "1        14.0  \n",
       "2         0.0  \n",
       "3         1.0  \n",
       "4         0.0  "
      ]
     },
     "execution_count": 23,
     "metadata": {},
     "output_type": "execute_result"
    }
   ],
   "source": [
    "# Inspect first 5 rows\n",
    "book_ratings.head()"
   ]
  },
  {
   "cell_type": "code",
   "execution_count": 29,
   "metadata": {},
   "outputs": [
    {
     "name": "stdout",
     "output_type": "stream",
     "text": [
      "The dataset contains  3289 reviews.\n"
     ]
    }
   ],
   "source": [
    "# Print dataset size and examine column data types\n",
    "print(\"The dataset contains \", len(book_ratings), \"reviews.\")"
   ]
  },
  {
   "cell_type": "code",
   "execution_count": 39,
   "metadata": {},
   "outputs": [
    {
     "data": {
      "image/png": "[encoded data removed]",
      "text/plain": [
       "<Figure size 640x480 with 1 Axes>"
      ]
     },
     "metadata": {},
     "output_type": "display_data"
    }
   ],
   "source": [
    "# Get distribution of ratings and sort by index (ratings)\n",
    "ratings_counts = book_ratings['rating'].value_counts().sort_index()\n",
    "\n",
    "# Create a list of all possible ratings (0 to 5)\n",
    "all_ratings = range(6)\n",
    "\n",
    "# Create a dictionary to map ratings to their counts (filling in missing ratings with 0)\n",
    "rating_count_dict = {rating: ratings_counts.get(rating, 0) for rating in all_ratings}\n",
    "\n",
    "# Plotting the distribution in a histogram\n",
    "plt.bar(list(rating_count_dict.keys()), list(rating_count_dict.values()))\n",
    "plt.xlabel('Ratings')\n",
    "plt.ylabel('Frequency')\n",
    "plt.title('Histogram of Ratings')\n",
    "\n",
    "# Adding values above the bars\n",
    "for rating, count in rating_count_dict.items():\n",
    "    plt.text(rating, count, str(count), ha='center', va='bottom')\n",
    "\n",
    "plt.xticks(list(rating_count_dict.keys()))\n",
    "plt.show()\n"
   ]
  },
  {
   "cell_type": "markdown",
   "metadata": {},
   "source": [
    "**Summary:**\n",
    "It appears there is some data where the ratings are 0. The ratings on the website only go from 1 to 5 inclusive."
   ]
  },
  {
   "cell_type": "markdown",
   "metadata": {},
   "source": [
    "## Data Wrangling"
   ]
  },
  {
   "cell_type": "code",
   "execution_count": 40,
   "metadata": {},
   "outputs": [],
   "source": [
    "# Filter ratings that are out of range\n",
    "book_ratings = book_ratings[book_ratings['rating']!=0]"
   ]
  },
  {
   "cell_type": "code",
   "execution_count": 41,
   "metadata": {},
   "outputs": [],
   "source": [
    "# Prepare data for surprise: build a Suprise reader object\n",
    "reader = Reader(rating_scale=(1, 5))"
   ]
  },
  {
   "cell_type": "markdown",
   "metadata": {},
   "source": [
    "## Build a recommender system using `Surprise`"
   ]
  },
  {
   "cell_type": "code",
   "execution_count": null,
   "metadata": {},
   "outputs": [],
   "source": [
    "# Load `book_ratings` into a Surprise Dataset\n",
    "rec_data = Dataset.load_from_df(book_ratings[['user_id','book_id','rating']], reader)"
   ]
  },
  {
   "cell_type": "code",
   "execution_count": 42,
   "metadata": {},
   "outputs": [],
   "source": [
    "# Create a 80:20 train-test split and set the random state to 7\n",
    "trainset, testset = train_test_split(rec_data, test_size=.2, random_state=7)"
   ]
  },
  {
   "cell_type": "code",
   "execution_count": 43,
   "metadata": {},
   "outputs": [
    {
     "name": "stdout",
     "output_type": "stream",
     "text": [
      "Computing the msd similarity matrix...\n",
      "Done computing similarity matrix.\n"
     ]
    },
    {
     "data": {
      "text/plain": [
       "<surprise.prediction_algorithms.knns.KNNBasic at 0x15dbbf4f350>"
      ]
     },
     "execution_count": 43,
     "metadata": {},
     "output_type": "execute_result"
    }
   ],
   "source": [
    "# Use KNNBasice from Surprise to train a collaborative filter\n",
    "nn_algo = KNNBasic()\n",
    "nn_algo.fit(trainset)"
   ]
  },
  {
   "cell_type": "code",
   "execution_count": 44,
   "metadata": {},
   "outputs": [
    {
     "name": "stdout",
     "output_type": "stream",
     "text": [
      "RMSE: 1.1122\n"
     ]
    },
    {
     "data": {
      "text/plain": [
       "1.1121748936202605"
      ]
     },
     "execution_count": 44,
     "metadata": {},
     "output_type": "execute_result"
    }
   ],
   "source": [
    "# Evaluate the recommender system\n",
    "predictions = nn_algo.test(testset)\n",
    "accuracy.rmse(predictions)"
   ]
  },
  {
   "cell_type": "markdown",
   "metadata": {},
   "source": [
    "## Hyperparameter Tuning"
   ]
  },
  {
   "cell_type": "code",
   "execution_count": 46,
   "metadata": {},
   "outputs": [
    {
     "name": "stdout",
     "output_type": "stream",
     "text": [
      "Best RMSE: 1.0639\n",
      "Best Hyperparameters: {'k': 10, 'sim_options': {'name': 'cosine', 'user_based': True}, 'min_k': 1}\n"
     ]
    }
   ],
   "source": [
    "# Define a parameter grid to search for optimal hyperparameters\n",
    "param_grid = {\n",
    "    'k': [10, 20, 30],\n",
    "    'sim_options': {\n",
    "        'name': ['cosine', 'pearson', 'msd'],\n",
    "        'user_based': [True, False]\n",
    "    },\n",
    "    'min_k': [1, 2, 5]\n",
    "}\n",
    "\n",
    "# Create a grid search object\n",
    "grid_search = GridSearchCV(KNNBasic, param_grid, measures=['rmse'], cv=5, n_jobs=-1)\n",
    "\n",
    "# Fit the grid search to the data\n",
    "grid_search.fit(rec_data)\n",
    "\n",
    "# Get the best RMSE score and the corresponding hyperparameters\n",
    "best_rmse = grid_search.best_score['rmse']\n",
    "best_params = grid_search.best_params['rmse']\n",
    "\n",
    "print(\"Best RMSE: {:.4f}\".format(best_rmse))\n",
    "print(\"Best Hyperparameters:\", best_params)\n"
   ]
  },
  {
   "cell_type": "markdown",
   "metadata": {},
   "source": [
    "**Summary:** \n",
    "We are able to to reduce the root-mean-square error (RMSE) from 1.1122 to 1.0639 using hyperparameter tuning."
   ]
  },
  {
   "cell_type": "markdown",
   "metadata": {},
   "source": [
    "## Refit Model with Tuned Hyperparameters"
   ]
  },
  {
   "cell_type": "code",
   "execution_count": 50,
   "metadata": {},
   "outputs": [
    {
     "name": "stdout",
     "output_type": "stream",
     "text": [
      "Computing the cosine similarity matrix...\n",
      "Done computing similarity matrix.\n",
      "Predicted Rating: 3.822301024428684\n"
     ]
    }
   ],
   "source": [
    "# Create a new KNNBasic model with the best hyperparameters\n",
    "best_k = 10\n",
    "best_sim_options = {\n",
    "    'name': 'cosine',\n",
    "    'user_based': True\n",
    "}\n",
    "best_min_k = 1\n",
    "\n",
    "nn_algo = KNNBasic(k=best_k, sim_options=best_sim_options, min_k=best_min_k)\n",
    "\n",
    "# Fit the model to the training data\n",
    "nn_algo.fit(trainset)\n",
    "\n",
    "# Prediction on a user who gave the \"The Three-Body Problem\" a rating of 5\n",
    "predicted_rating = nn_algo.predict('8842281e1d1347389f2ab93d60773d4d', '18007564').est\n",
    "\n",
    "print(\"Predicted Rating:\", predicted_rating)"
   ]
  },
  {
   "cell_type": "markdown",
   "metadata": {},
   "source": [
    "**Summary:** \n",
    "Refitting the KNNBasic model using the best hyperparameters we obtained from the grid search leads to a prediction of 3.82 for the user who gave the \"The Three-Body Problem\" a rating of 5, suggesting we get fairly close to accurately predicting their rating."
   ]
  }
 ],
 "metadata": {
  "kernelspec": {
   "display_name": "Python 3",
   "language": "python",
   "name": "python3"
  },
  "language_info": {
   "codemirror_mode": {
    "name": "ipython",
    "version": 3
   },
   "file_extension": ".py",
   "mimetype": "text/x-python",
   "name": "python",
   "nbconvert_exporter": "python",
   "pygments_lexer": "ipython3",
   "version": "3.11.5"
  },
  "orig_nbformat": 4
 },
 "nbformat": 4,
 "nbformat_minor": 2
}
